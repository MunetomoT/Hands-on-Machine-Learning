{
 "cells": [
  {
   "cell_type": "code",
   "execution_count": 1,
   "metadata": {
    "collapsed": true
   },
   "outputs": [],
   "source": [
    "import tensorflow as tf\n",
    "x = tf.Variable(3)\n",
    "y = tf.Variable(4)\n",
    "f = x*x*y + y + 2"
   ]
  },
  {
   "cell_type": "code",
   "execution_count": 3,
   "metadata": {},
   "outputs": [
    {
     "name": "stdout",
     "output_type": "stream",
     "text": [
      "42\n"
     ]
    }
   ],
   "source": [
    "sess = tf.Session()\n",
    "sess.run(x.initializer)\n",
    "sess.run(y.initializer)\n",
    "result = sess.run(f)\n",
    "print(result)\n",
    "sess.close()"
   ]
  },
  {
   "cell_type": "code",
   "execution_count": 5,
   "metadata": {},
   "outputs": [
    {
     "name": "stdout",
     "output_type": "stream",
     "text": [
      "42\n"
     ]
    }
   ],
   "source": [
    "with tf.Session() as sess:\n",
    "    x.initializer.run()\n",
    "    y.initializer.run()\n",
    "    result = f.eval()\n",
    "    print(result)"
   ]
  },
  {
   "cell_type": "code",
   "execution_count": 9,
   "metadata": {},
   "outputs": [
    {
     "name": "stdout",
     "output_type": "stream",
     "text": [
      "42\n"
     ]
    }
   ],
   "source": [
    "init = tf.global_variables_initializer()\n",
    "\n",
    "with tf.Session() as sess:\n",
    "    init.run()\n",
    "    result = f.eval()\n",
    "    print(result)"
   ]
  },
  {
   "cell_type": "code",
   "execution_count": 11,
   "metadata": {},
   "outputs": [
    {
     "data": {
      "text/plain": [
       "True"
      ]
     },
     "execution_count": 11,
     "metadata": {},
     "output_type": "execute_result"
    }
   ],
   "source": [
    "x1 = tf.Variable(1)\n",
    "x1.graph is tf.get_default_graph()"
   ]
  },
  {
   "cell_type": "code",
   "execution_count": 23,
   "metadata": {},
   "outputs": [
    {
     "data": {
      "text/plain": [
       "True"
      ]
     },
     "execution_count": 23,
     "metadata": {},
     "output_type": "execute_result"
    }
   ],
   "source": [
    "graph = tf.Graph()\n",
    "with graph.as_default():\n",
    "    x2 = tf.Variable(2)\n",
    "x2.graph is tf.get_default_graph()\n",
    "graph1 = tf.Graph()\n",
    "with graph1.as_default():\n",
    "    x3 = tf.Variable(3)\n",
    "x3.graph is graph1"
   ]
  },
  {
   "cell_type": "code",
   "execution_count": 29,
   "metadata": {},
   "outputs": [
    {
     "name": "stdout",
     "output_type": "stream",
     "text": [
      "[[ -3.74651413e+01]\n",
      " [  4.35734153e-01]\n",
      " [  9.33829229e-03]\n",
      " [ -1.06622010e-01]\n",
      " [  6.44106984e-01]\n",
      " [ -4.25131839e-06]\n",
      " [ -3.77322501e-03]\n",
      " [ -4.26648885e-01]\n",
      " [ -4.40514028e-01]]\n"
     ]
    }
   ],
   "source": [
    "import numpy as np\n",
    "from sklearn.datasets import fetch_california_housing\n",
    "housing = fetch_california_housing()\n",
    "m, n = housing.data.shape\n",
    "housing_data_plus_bias = np.c_[np.ones((m, 1)), housing.data]\n",
    "X = tf.constant(housing_data_plus_bias, dtype = tf.float32, name = \"X\")\n",
    "y = tf.constant(housing.target.reshape(-1, 1), dtype = tf.float32, name = 'y')\n",
    "XT = tf.transpose(X)\n",
    "theta = tf.matmul(tf.matmul(tf.matrix_inverse(tf.matmul(XT, X)), XT), y)\n",
    "\n",
    "with tf.Session() as sess:\n",
    "    theta_value = theta.eval()\n",
    "    print (theta_value)"
   ]
  },
  {
   "cell_type": "code",
   "execution_count": 45,
   "metadata": {},
   "outputs": [],
   "source": [
    "from sklearn.preprocessing import StandardScaler\n",
    "stdscaler = StandardScaler()\n",
    "X_scaled = stdscaler.fit_transform(housing.data)\n",
    "scaled_housing_data_plus_bias = np.c_[np.ones((m, 1)), X_scaled]"
   ]
  },
  {
   "cell_type": "code",
   "execution_count": 58,
   "metadata": {},
   "outputs": [
    {
     "name": "stdout",
     "output_type": "stream",
     "text": [
      "Epoch 0 MSE = 8.76573\n",
      "Epoch 100 MSE = 5.43739\n",
      "Epoch 200 MSE = 3.57033\n",
      "Epoch 300 MSE = 2.46622\n",
      "Epoch 400 MSE = 1.78961\n",
      "Epoch 500 MSE = 1.36535\n",
      "Epoch 600 MSE = 1.09532\n",
      "Epoch 700 MSE = 0.921663\n",
      "Epoch 800 MSE = 0.809072\n",
      "Epoch 900 MSE = 0.735513\n",
      "Epoch 1000 MSE = 0.687057\n",
      "Epoch 1100 MSE = 0.654821\n",
      "Epoch 1200 MSE = 0.633112\n",
      "Epoch 1300 MSE = 0.618258\n",
      "Epoch 1400 MSE = 0.607895\n",
      "Epoch 1500 MSE = 0.600485\n",
      "Epoch 1600 MSE = 0.595029\n",
      "Epoch 1700 MSE = 0.590879\n",
      "Epoch 1800 MSE = 0.587606\n",
      "Epoch 1900 MSE = 0.584932\n",
      "Epoch 2000 MSE = 0.582671\n",
      "Epoch 2100 MSE = 0.580701\n",
      "Epoch 2200 MSE = 0.578938\n",
      "Epoch 2300 MSE = 0.577329\n",
      "Epoch 2400 MSE = 0.575836\n",
      "Epoch 2500 MSE = 0.574433\n",
      "Epoch 2600 MSE = 0.573102\n",
      "Epoch 2700 MSE = 0.571831\n",
      "Epoch 2800 MSE = 0.570611\n",
      "Epoch 2900 MSE = 0.569437\n",
      "Epoch 3000 MSE = 0.568302\n",
      "Epoch 3100 MSE = 0.567203\n",
      "Epoch 3200 MSE = 0.566139\n",
      "Epoch 3300 MSE = 0.565105\n",
      "Epoch 3400 MSE = 0.564102\n",
      "Epoch 3500 MSE = 0.563127\n",
      "Epoch 3600 MSE = 0.562178\n",
      "Epoch 3700 MSE = 0.561257\n",
      "Epoch 3800 MSE = 0.560359\n",
      "Epoch 3900 MSE = 0.559486\n",
      "Epoch 4000 MSE = 0.558636\n",
      "Epoch 4100 MSE = 0.557809\n",
      "Epoch 4200 MSE = 0.557004\n",
      "Epoch 4300 MSE = 0.556219\n",
      "Epoch 4400 MSE = 0.555455\n",
      "Epoch 4500 MSE = 0.554712\n",
      "Epoch 4600 MSE = 0.553987\n",
      "Epoch 4700 MSE = 0.553282\n",
      "Epoch 4800 MSE = 0.552594\n",
      "Epoch 4900 MSE = 0.551924\n",
      "Epoch 5000 MSE = 0.551271\n",
      "Epoch 5100 MSE = 0.550637\n",
      "Epoch 5200 MSE = 0.550017\n",
      "Epoch 5300 MSE = 0.549413\n",
      "Epoch 5400 MSE = 0.548825\n",
      "Epoch 5500 MSE = 0.548252\n",
      "Epoch 5600 MSE = 0.547693\n",
      "Epoch 5700 MSE = 0.547148\n",
      "Epoch 5800 MSE = 0.546618\n",
      "Epoch 5900 MSE = 0.546101\n",
      "Epoch 6000 MSE = 0.545596\n",
      "Epoch 6100 MSE = 0.545105\n",
      "Epoch 6200 MSE = 0.544625\n",
      "Epoch 6300 MSE = 0.544158\n",
      "Epoch 6400 MSE = 0.543702\n",
      "Epoch 6500 MSE = 0.543258\n",
      "Epoch 6600 MSE = 0.542825\n",
      "Epoch 6700 MSE = 0.542403\n",
      "Epoch 6800 MSE = 0.541991\n",
      "Epoch 6900 MSE = 0.541589\n",
      "Epoch 7000 MSE = 0.541197\n",
      "Epoch 7100 MSE = 0.540815\n",
      "Epoch 7200 MSE = 0.540442\n",
      "Epoch 7300 MSE = 0.540079\n",
      "Epoch 7400 MSE = 0.539724\n",
      "Epoch 7500 MSE = 0.539378\n",
      "Epoch 7600 MSE = 0.53904\n",
      "Epoch 7700 MSE = 0.538711\n",
      "Epoch 7800 MSE = 0.538389\n",
      "Epoch 7900 MSE = 0.538076\n",
      "Epoch 8000 MSE = 0.53777\n",
      "Epoch 8100 MSE = 0.537471\n",
      "Epoch 8200 MSE = 0.53718\n",
      "Epoch 8300 MSE = 0.536895\n",
      "Epoch 8400 MSE = 0.536617\n",
      "Epoch 8500 MSE = 0.536346\n",
      "Epoch 8600 MSE = 0.536081\n",
      "Epoch 8700 MSE = 0.535824\n",
      "Epoch 8800 MSE = 0.535572\n",
      "Epoch 8900 MSE = 0.535325\n",
      "Epoch 9000 MSE = 0.535084\n",
      "Epoch 9100 MSE = 0.53485\n",
      "Epoch 9200 MSE = 0.53462\n",
      "Epoch 9300 MSE = 0.534397\n",
      "Epoch 9400 MSE = 0.534179\n",
      "Epoch 9500 MSE = 0.533966\n",
      "Epoch 9600 MSE = 0.533757\n",
      "Epoch 9700 MSE = 0.533553\n",
      "Epoch 9800 MSE = 0.533355\n",
      "Epoch 9900 MSE = 0.533161\n",
      "Epoch 10000 MSE = 0.532971\n",
      "Epoch 10100 MSE = 0.532952\n",
      "Epoch 10200 MSE = 0.532934\n",
      "Epoch 10300 MSE = 0.532915\n",
      "Epoch 10400 MSE = 0.532896\n",
      "Epoch 10500 MSE = 0.532879\n",
      "Epoch 10600 MSE = 0.53286\n",
      "Epoch 10700 MSE = 0.532842\n",
      "Epoch 10800 MSE = 0.532823\n",
      "Epoch 10900 MSE = 0.532805\n",
      "Epoch 11000 MSE = 0.532787\n",
      "Epoch 11100 MSE = 0.532768\n",
      "Epoch 11200 MSE = 0.53275\n",
      "Epoch 11300 MSE = 0.532732\n",
      "Epoch 11400 MSE = 0.532714\n",
      "Epoch 11500 MSE = 0.532696\n",
      "Epoch 11600 MSE = 0.532678\n",
      "Epoch 11700 MSE = 0.53266\n",
      "Epoch 11800 MSE = 0.532642\n",
      "Epoch 11900 MSE = 0.532624\n",
      "Epoch 12000 MSE = 0.532607\n",
      "Epoch 12100 MSE = 0.532589\n",
      "Epoch 12200 MSE = 0.532571\n",
      "Epoch 12300 MSE = 0.532553\n",
      "Epoch 12400 MSE = 0.532536\n",
      "Epoch 12500 MSE = 0.532518\n",
      "Epoch 12600 MSE = 0.5325\n",
      "Epoch 12700 MSE = 0.532483\n",
      "Epoch 12800 MSE = 0.532465\n",
      "Epoch 12900 MSE = 0.532448\n",
      "Epoch 13000 MSE = 0.532431\n",
      "Epoch 13100 MSE = 0.532414\n",
      "Epoch 13200 MSE = 0.532396\n",
      "Epoch 13300 MSE = 0.532378\n",
      "Epoch 13400 MSE = 0.532361\n",
      "Epoch 13500 MSE = 0.532344\n",
      "Epoch 13600 MSE = 0.532327\n",
      "Epoch 13700 MSE = 0.53231\n",
      "Epoch 13800 MSE = 0.532293\n",
      "Epoch 13900 MSE = 0.532276\n",
      "Epoch 14000 MSE = 0.532258\n",
      "Epoch 14100 MSE = 0.532241\n",
      "Epoch 14200 MSE = 0.532224\n",
      "Epoch 14300 MSE = 0.532208\n",
      "Epoch 14400 MSE = 0.532191\n",
      "Epoch 14500 MSE = 0.532174\n",
      "Epoch 14600 MSE = 0.532157\n",
      "Epoch 14700 MSE = 0.532141\n",
      "Epoch 14800 MSE = 0.532124\n",
      "Epoch 14900 MSE = 0.532108\n",
      "Epoch 15000 MSE = 0.532091\n",
      "Epoch 15100 MSE = 0.532074\n",
      "Epoch 15200 MSE = 0.532057\n",
      "Epoch 15300 MSE = 0.532041\n",
      "Epoch 15400 MSE = 0.532025\n",
      "Epoch 15500 MSE = 0.532008\n",
      "Epoch 15600 MSE = 0.531992\n",
      "Epoch 15700 MSE = 0.531975\n",
      "Epoch 15800 MSE = 0.531959\n",
      "Epoch 15900 MSE = 0.531943\n",
      "Epoch 16000 MSE = 0.531927\n",
      "Epoch 16100 MSE = 0.53191\n",
      "Epoch 16200 MSE = 0.531894\n",
      "Epoch 16300 MSE = 0.531878\n",
      "Epoch 16400 MSE = 0.531862\n",
      "Epoch 16500 MSE = 0.531846\n",
      "Epoch 16600 MSE = 0.53183\n",
      "Epoch 16700 MSE = 0.531814\n",
      "Epoch 16800 MSE = 0.531798\n",
      "Epoch 16900 MSE = 0.531782\n",
      "Epoch 17000 MSE = 0.531766\n",
      "Epoch 17100 MSE = 0.53175\n",
      "Epoch 17200 MSE = 0.531734\n",
      "Epoch 17300 MSE = 0.531719\n",
      "Epoch 17400 MSE = 0.531703\n",
      "Epoch 17500 MSE = 0.531687\n",
      "Epoch 17600 MSE = 0.531671\n",
      "Epoch 17700 MSE = 0.531656\n",
      "Epoch 17800 MSE = 0.53164\n",
      "Epoch 17900 MSE = 0.531625\n",
      "Epoch 18000 MSE = 0.531609\n",
      "Epoch 18100 MSE = 0.531594\n",
      "Epoch 18200 MSE = 0.531579\n",
      "Epoch 18300 MSE = 0.531563\n",
      "Epoch 18400 MSE = 0.531547\n",
      "Epoch 18500 MSE = 0.531532\n",
      "Epoch 18600 MSE = 0.531517\n",
      "Epoch 18700 MSE = 0.531502\n",
      "Epoch 18800 MSE = 0.531486\n",
      "Epoch 18900 MSE = 0.531471\n",
      "Epoch 19000 MSE = 0.531457\n",
      "Epoch 19100 MSE = 0.531441\n",
      "Epoch 19200 MSE = 0.531425\n",
      "Epoch 19300 MSE = 0.531411\n",
      "Epoch 19400 MSE = 0.531395\n",
      "Epoch 19500 MSE = 0.531381\n",
      "Epoch 19600 MSE = 0.531366\n",
      "Epoch 19700 MSE = 0.531351\n",
      "Epoch 19800 MSE = 0.531336\n",
      "Epoch 19900 MSE = 0.531321\n",
      "[[ 2.06855774]\n",
      " [ 0.89174205]\n",
      " [ 0.14514171]\n",
      " [-0.35532412]\n",
      " [ 0.36782435]\n",
      " [ 0.00429089]\n",
      " [-0.04288323]\n",
      " [-0.64917368]\n",
      " [-0.62572539]]\n"
     ]
    }
   ],
   "source": [
    "n_epochs = 10000\n",
    "m_epochs = 10000\n",
    "learning_rate_1 = 0.1\n",
    "learning_rate_2 = 0.01\n",
    "\n",
    "X = tf.constant(scaled_housing_data_plus_bias, dtype = tf.float32)\n",
    "y = tf.constant(housing.target.reshape(-1, 1), dtype = tf.float32)\n",
    "theta = tf.Variable(tf.random_uniform([n + 1, 1], -1.0, 1.0))\n",
    "y_pred = tf.matmul(X, theta)\n",
    "error = y_pred - y\n",
    "mse = tf.reduce_mean(tf.square(error))\n",
    "gradients = 2 / m * tf.matmul(tf.transpose(X), error)\n",
    "training_op_1 = tf.assign(theta, theta - learning_rate_1 * gradients)\n",
    "training_op_2 = tf.assign(theta, theta - learning_rate_2 * gradients)\n",
    "\n",
    "init = tf.global_variables_initializer()\n",
    "\n",
    "with tf.Session() as sess:\n",
    "    sess.run(init)\n",
    "    \n",
    "    for epoch in range(m_epochs):\n",
    "        if epoch % 100 == 0:\n",
    "            print (\"Epoch\", epoch, \"MSE =\", mse.eval())\n",
    "            sess.run(training_op_1)\n",
    "    \n",
    "    for epoch in range(n_epochs):\n",
    "        if epoch % 100 == 0:\n",
    "            print (\"Epoch\", epoch + m_epochs, \"MSE =\", mse.eval())\n",
    "            sess.run(training_op_2)\n",
    "            \n",
    "    best_theta = theta.eval()\n",
    "    \n",
    "    print(best_theta)"
   ]
  },
  {
   "cell_type": "code",
   "execution_count": 67,
   "metadata": {
    "collapsed": true
   },
   "outputs": [],
   "source": [
    "n_epochs = 1000\n",
    "learning_rate = 0.01\n",
    "X = tf.placeholder(tf.float32, shape = (None, n+1))\n",
    "y = tf.placeholder(tf.float32, shape = (None, 1))\n",
    "\n",
    "batch_size = 100\n",
    "n_batches = int(np.ceil(m / batch_size))\n",
    "\n",
    "def fetch_batch(epoch, batch_index, batch_size):\n",
    "    np.random.seed(epoch * n_batches + batch_index)\n",
    "    indices = np.random.randint(m, size=batch_size)\n",
    "    X_batch = scaled_housing_data_plus_bias[indices]\n",
    "    y_batch = housing.target.reshape(-1, 1)[indices]\n",
    "    return X_batch, y_batch\n",
    "\n",
    "mse = tf.reduce_mean(tf.square(error), name = 'mse')\n",
    "optimizer = tf.train.GradientDescentOptimizer(learning_rate = learning_rate)\n",
    "training_op = optimizer.minimize(mse)\n",
    "\n",
    "init = tf.global_variables_initializer()"
   ]
  },
  {
   "cell_type": "code",
   "execution_count": 68,
   "metadata": {},
   "outputs": [
    {
     "name": "stdout",
     "output_type": "stream",
     "text": [
      "For epoch:  0 , mse:  0.657362\n",
      "For epoch:  10 , mse:  0.525167\n",
      "For epoch:  20 , mse:  0.524337\n",
      "For epoch:  30 , mse:  0.524321\n",
      "For epoch:  40 , mse:  0.524321\n",
      "For epoch:  50 , mse:  0.524321\n",
      "For epoch:  60 , mse:  0.524321\n",
      "For epoch:  70 , mse:  0.524321\n",
      "For epoch:  80 , mse:  0.524321\n",
      "For epoch:  90 , mse:  0.524321\n",
      "For epoch:  100 , mse:  0.524321\n",
      "For epoch:  110 , mse:  0.524321\n",
      "For epoch:  120 , mse:  0.524321\n",
      "For epoch:  130 , mse:  0.524321\n"
     ]
    },
    {
     "ename": "KeyboardInterrupt",
     "evalue": "",
     "output_type": "error",
     "traceback": [
      "\u001b[0;31m---------------------------------------------------------------------------\u001b[0m",
      "\u001b[0;31mKeyboardInterrupt\u001b[0m                         Traceback (most recent call last)",
      "\u001b[0;32m<ipython-input-68-67ccd001510f>\u001b[0m in \u001b[0;36m<module>\u001b[0;34m()\u001b[0m\n\u001b[1;32m      5\u001b[0m         \u001b[0;32mfor\u001b[0m \u001b[0mbatch_index\u001b[0m \u001b[0;32min\u001b[0m \u001b[0mrange\u001b[0m\u001b[0;34m(\u001b[0m\u001b[0mn_batches\u001b[0m\u001b[0;34m)\u001b[0m\u001b[0;34m:\u001b[0m\u001b[0;34m\u001b[0m\u001b[0m\n\u001b[1;32m      6\u001b[0m             \u001b[0mX_batch\u001b[0m\u001b[0;34m,\u001b[0m \u001b[0my_batch\u001b[0m \u001b[0;34m=\u001b[0m \u001b[0mfetch_batch\u001b[0m\u001b[0;34m(\u001b[0m\u001b[0mepoch\u001b[0m\u001b[0;34m,\u001b[0m \u001b[0mbatch_index\u001b[0m\u001b[0;34m,\u001b[0m \u001b[0mbatch_size\u001b[0m\u001b[0;34m)\u001b[0m\u001b[0;34m\u001b[0m\u001b[0m\n\u001b[0;32m----> 7\u001b[0;31m             \u001b[0msess\u001b[0m\u001b[0;34m.\u001b[0m\u001b[0mrun\u001b[0m\u001b[0;34m(\u001b[0m\u001b[0mtraining_op\u001b[0m\u001b[0;34m,\u001b[0m \u001b[0mfeed_dict\u001b[0m \u001b[0;34m=\u001b[0m \u001b[0;34m{\u001b[0m\u001b[0mX\u001b[0m\u001b[0;34m:\u001b[0m \u001b[0mX_batch\u001b[0m\u001b[0;34m,\u001b[0m \u001b[0my\u001b[0m\u001b[0;34m:\u001b[0m\u001b[0my_batch\u001b[0m\u001b[0;34m}\u001b[0m\u001b[0;34m)\u001b[0m\u001b[0;34m\u001b[0m\u001b[0m\n\u001b[0m\u001b[1;32m      8\u001b[0m         \u001b[0;32mif\u001b[0m \u001b[0mepoch\u001b[0m \u001b[0;34m%\u001b[0m \u001b[0;36m10\u001b[0m \u001b[0;34m==\u001b[0m \u001b[0;36m0\u001b[0m\u001b[0;34m:\u001b[0m\u001b[0;34m\u001b[0m\u001b[0m\n\u001b[1;32m      9\u001b[0m             \u001b[0mprint\u001b[0m\u001b[0;34m(\u001b[0m\u001b[0;34m\"For epoch: \"\u001b[0m\u001b[0;34m,\u001b[0m \u001b[0mepoch\u001b[0m\u001b[0;34m,\u001b[0m \u001b[0;34m\", mse: \"\u001b[0m\u001b[0;34m,\u001b[0m \u001b[0mmse\u001b[0m\u001b[0;34m.\u001b[0m\u001b[0meval\u001b[0m\u001b[0;34m(\u001b[0m\u001b[0;34m)\u001b[0m\u001b[0;34m)\u001b[0m\u001b[0;34m\u001b[0m\u001b[0m\n",
      "\u001b[0;32m~/.pyenv/versions/anaconda3-5.0.0/lib/python3.6/site-packages/tensorflow/python/client/session.py\u001b[0m in \u001b[0;36mrun\u001b[0;34m(self, fetches, feed_dict, options, run_metadata)\u001b[0m\n\u001b[1;32m    893\u001b[0m     \u001b[0;32mtry\u001b[0m\u001b[0;34m:\u001b[0m\u001b[0;34m\u001b[0m\u001b[0m\n\u001b[1;32m    894\u001b[0m       result = self._run(None, fetches, feed_dict, options_ptr,\n\u001b[0;32m--> 895\u001b[0;31m                          run_metadata_ptr)\n\u001b[0m\u001b[1;32m    896\u001b[0m       \u001b[0;32mif\u001b[0m \u001b[0mrun_metadata\u001b[0m\u001b[0;34m:\u001b[0m\u001b[0;34m\u001b[0m\u001b[0m\n\u001b[1;32m    897\u001b[0m         \u001b[0mproto_data\u001b[0m \u001b[0;34m=\u001b[0m \u001b[0mtf_session\u001b[0m\u001b[0;34m.\u001b[0m\u001b[0mTF_GetBuffer\u001b[0m\u001b[0;34m(\u001b[0m\u001b[0mrun_metadata_ptr\u001b[0m\u001b[0;34m)\u001b[0m\u001b[0;34m\u001b[0m\u001b[0m\n",
      "\u001b[0;32m~/.pyenv/versions/anaconda3-5.0.0/lib/python3.6/site-packages/tensorflow/python/client/session.py\u001b[0m in \u001b[0;36m_run\u001b[0;34m(self, handle, fetches, feed_dict, options, run_metadata)\u001b[0m\n\u001b[1;32m   1122\u001b[0m     \u001b[0;32mif\u001b[0m \u001b[0mfinal_fetches\u001b[0m \u001b[0;32mor\u001b[0m \u001b[0mfinal_targets\u001b[0m \u001b[0;32mor\u001b[0m \u001b[0;34m(\u001b[0m\u001b[0mhandle\u001b[0m \u001b[0;32mand\u001b[0m \u001b[0mfeed_dict_tensor\u001b[0m\u001b[0;34m)\u001b[0m\u001b[0;34m:\u001b[0m\u001b[0;34m\u001b[0m\u001b[0m\n\u001b[1;32m   1123\u001b[0m       results = self._do_run(handle, final_targets, final_fetches,\n\u001b[0;32m-> 1124\u001b[0;31m                              feed_dict_tensor, options, run_metadata)\n\u001b[0m\u001b[1;32m   1125\u001b[0m     \u001b[0;32melse\u001b[0m\u001b[0;34m:\u001b[0m\u001b[0;34m\u001b[0m\u001b[0m\n\u001b[1;32m   1126\u001b[0m       \u001b[0mresults\u001b[0m \u001b[0;34m=\u001b[0m \u001b[0;34m[\u001b[0m\u001b[0;34m]\u001b[0m\u001b[0;34m\u001b[0m\u001b[0m\n",
      "\u001b[0;32m~/.pyenv/versions/anaconda3-5.0.0/lib/python3.6/site-packages/tensorflow/python/client/session.py\u001b[0m in \u001b[0;36m_do_run\u001b[0;34m(self, handle, target_list, fetch_list, feed_dict, options, run_metadata)\u001b[0m\n\u001b[1;32m   1319\u001b[0m     \u001b[0;32mif\u001b[0m \u001b[0mhandle\u001b[0m \u001b[0;32mis\u001b[0m \u001b[0;32mNone\u001b[0m\u001b[0;34m:\u001b[0m\u001b[0;34m\u001b[0m\u001b[0m\n\u001b[1;32m   1320\u001b[0m       return self._do_call(_run_fn, self._session, feeds, fetches, targets,\n\u001b[0;32m-> 1321\u001b[0;31m                            options, run_metadata)\n\u001b[0m\u001b[1;32m   1322\u001b[0m     \u001b[0;32melse\u001b[0m\u001b[0;34m:\u001b[0m\u001b[0;34m\u001b[0m\u001b[0m\n\u001b[1;32m   1323\u001b[0m       \u001b[0;32mreturn\u001b[0m \u001b[0mself\u001b[0m\u001b[0;34m.\u001b[0m\u001b[0m_do_call\u001b[0m\u001b[0;34m(\u001b[0m\u001b[0m_prun_fn\u001b[0m\u001b[0;34m,\u001b[0m \u001b[0mself\u001b[0m\u001b[0;34m.\u001b[0m\u001b[0m_session\u001b[0m\u001b[0;34m,\u001b[0m \u001b[0mhandle\u001b[0m\u001b[0;34m,\u001b[0m \u001b[0mfeeds\u001b[0m\u001b[0;34m,\u001b[0m \u001b[0mfetches\u001b[0m\u001b[0;34m)\u001b[0m\u001b[0;34m\u001b[0m\u001b[0m\n",
      "\u001b[0;32m~/.pyenv/versions/anaconda3-5.0.0/lib/python3.6/site-packages/tensorflow/python/client/session.py\u001b[0m in \u001b[0;36m_do_call\u001b[0;34m(self, fn, *args)\u001b[0m\n\u001b[1;32m   1325\u001b[0m   \u001b[0;32mdef\u001b[0m \u001b[0m_do_call\u001b[0m\u001b[0;34m(\u001b[0m\u001b[0mself\u001b[0m\u001b[0;34m,\u001b[0m \u001b[0mfn\u001b[0m\u001b[0;34m,\u001b[0m \u001b[0;34m*\u001b[0m\u001b[0margs\u001b[0m\u001b[0;34m)\u001b[0m\u001b[0;34m:\u001b[0m\u001b[0;34m\u001b[0m\u001b[0m\n\u001b[1;32m   1326\u001b[0m     \u001b[0;32mtry\u001b[0m\u001b[0;34m:\u001b[0m\u001b[0;34m\u001b[0m\u001b[0m\n\u001b[0;32m-> 1327\u001b[0;31m       \u001b[0;32mreturn\u001b[0m \u001b[0mfn\u001b[0m\u001b[0;34m(\u001b[0m\u001b[0;34m*\u001b[0m\u001b[0margs\u001b[0m\u001b[0;34m)\u001b[0m\u001b[0;34m\u001b[0m\u001b[0m\n\u001b[0m\u001b[1;32m   1328\u001b[0m     \u001b[0;32mexcept\u001b[0m \u001b[0merrors\u001b[0m\u001b[0;34m.\u001b[0m\u001b[0mOpError\u001b[0m \u001b[0;32mas\u001b[0m \u001b[0me\u001b[0m\u001b[0;34m:\u001b[0m\u001b[0;34m\u001b[0m\u001b[0m\n\u001b[1;32m   1329\u001b[0m       \u001b[0mmessage\u001b[0m \u001b[0;34m=\u001b[0m \u001b[0mcompat\u001b[0m\u001b[0;34m.\u001b[0m\u001b[0mas_text\u001b[0m\u001b[0;34m(\u001b[0m\u001b[0me\u001b[0m\u001b[0;34m.\u001b[0m\u001b[0mmessage\u001b[0m\u001b[0;34m)\u001b[0m\u001b[0;34m\u001b[0m\u001b[0m\n",
      "\u001b[0;32m~/.pyenv/versions/anaconda3-5.0.0/lib/python3.6/site-packages/tensorflow/python/client/session.py\u001b[0m in \u001b[0;36m_run_fn\u001b[0;34m(session, feed_dict, fetch_list, target_list, options, run_metadata)\u001b[0m\n\u001b[1;32m   1304\u001b[0m           return tf_session.TF_Run(session, options,\n\u001b[1;32m   1305\u001b[0m                                    \u001b[0mfeed_dict\u001b[0m\u001b[0;34m,\u001b[0m \u001b[0mfetch_list\u001b[0m\u001b[0;34m,\u001b[0m \u001b[0mtarget_list\u001b[0m\u001b[0;34m,\u001b[0m\u001b[0;34m\u001b[0m\u001b[0m\n\u001b[0;32m-> 1306\u001b[0;31m                                    status, run_metadata)\n\u001b[0m\u001b[1;32m   1307\u001b[0m \u001b[0;34m\u001b[0m\u001b[0m\n\u001b[1;32m   1308\u001b[0m     \u001b[0;32mdef\u001b[0m \u001b[0m_prun_fn\u001b[0m\u001b[0;34m(\u001b[0m\u001b[0msession\u001b[0m\u001b[0;34m,\u001b[0m \u001b[0mhandle\u001b[0m\u001b[0;34m,\u001b[0m \u001b[0mfeed_dict\u001b[0m\u001b[0;34m,\u001b[0m \u001b[0mfetch_list\u001b[0m\u001b[0;34m)\u001b[0m\u001b[0;34m:\u001b[0m\u001b[0;34m\u001b[0m\u001b[0m\n",
      "\u001b[0;31mKeyboardInterrupt\u001b[0m: "
     ]
    }
   ],
   "source": [
    "with tf.Session() as sess:\n",
    "    sess.run(init)\n",
    "    \n",
    "    for epoch in range(n_epochs):\n",
    "        for batch_index in range(n_batches):\n",
    "            X_batch, y_batch = fetch_batch(epoch, batch_index, batch_size)\n",
    "            sess.run(training_op, feed_dict = {X: X_batch, y:y_batch})\n",
    "        if epoch % 10 == 0:\n",
    "            print(\"For epoch: \", epoch, \", mse: \", mse.eval())\n",
    "    best_theta = theta.eval()"
   ]
  },
  {
   "cell_type": "code",
   "execution_count": 72,
   "metadata": {},
   "outputs": [
    {
     "name": "stdout",
     "output_type": "stream",
     "text": [
      "Epoch  0 done\n",
      "Epoch  1 done\n",
      "Epoch  2 done\n",
      "Epoch  3 done\n",
      "Epoch  4 done\n",
      "Epoch  5 done\n",
      "Epoch  6 done\n",
      "Epoch  7 done\n",
      "Epoch  8 done\n",
      "Epoch  9 done\n"
     ]
    }
   ],
   "source": [
    "from datetime import datetime\n",
    "\n",
    "now = datetime.utcnow().strftime(\"%Y%m%d%H%M%S\")\n",
    "root_logdir = \"tf_logs\"\n",
    "logdir = \"{}/run-{}/\".format(root_logdir, now)\n",
    "\n",
    "tf.reset_default_graph()\n",
    "X = tf.placeholder(tf.float32, shape=(None, n + 1), name=\"X\")\n",
    "y = tf.placeholder(tf.float32, shape=(None, 1), name=\"y\")\n",
    "theta = tf.Variable(tf.random_uniform([n + 1, 1], -1.0, 1.0, seed=42), name=\"theta\")\n",
    "y_pred = tf.matmul(X, theta, name=\"predictions\")\n",
    "optimizer = tf.train.GradientDescentOptimizer(learning_rate=learning_rate)\n",
    "training_op = optimizer.minimize(mse)\n",
    "init = tf.global_variables_initializer()\n",
    "n_epochs = 10\n",
    "batch_size = 100\n",
    "n_batches = int(np.ceil(m / batch_size))\n",
    "\n",
    "with tf.name_scope(\"loss\") as scope:\n",
    "    error = y_pred - y\n",
    "    mse = tf.reduce_mean(tf.square(error), name = 'mse')\n",
    "    \n",
    "mse_summary = tf.summary.scalar(\"MSE\", mse)\n",
    "file_writer = tf.summary.FileWriter(logdir, tf.get_default_graph())\n",
    "\n",
    "with tf.Session() as sess:\n",
    "    sess.run(init)\n",
    "\n",
    "    for epoch in range(n_epochs):\n",
    "        for batch_index in range(n_batches):\n",
    "            X_batch, y_batch = fetch_batch(epoch, batch_index, batch_size)\n",
    "            if batch_index % 10 == 0:\n",
    "                summary_str = mse_summary.eval(feed_dict = {X:X_batch, y:y_batch})\n",
    "                step = epoch * n_batches + batch_index\n",
    "                file_writer.add_summary(summary_str, step)    \n",
    "            sess.run(training_op, feed_dict={X: X_batch, y: y_batch})\n",
    "        print (\"Epoch \", epoch, \"done\")\n",
    "        \n",
    "    best_theta = theta.eval()\n",
    "    \n",
    "file_writer.close()"
   ]
  },
  {
   "cell_type": "code",
   "execution_count": 74,
   "metadata": {
    "collapsed": true
   },
   "outputs": [],
   "source": [
    "tf.reset_default_graph()\n",
    "from datetime import datetime\n",
    "\n",
    "now = datetime.utcnow().strftime(\"%Y%m%d%H%M%S\")\n",
    "root_logdir = \"tf_logs\"\n",
    "logdir = \"{}/run-{}/\".format(root_logdir, now)\n",
    "\n",
    "def relu(X):\n",
    "    with tf.name_scope(\"relu\"):\n",
    "        w_shape = (int(X.get_shape()[1]), 1)\n",
    "        w = tf.Variable(tf.random_normal(w_shape), name = 'weights')\n",
    "        b = tf.Variable(0.0, name = 'bias')\n",
    "        z = tf.add(tf.matmul(X, w), b, name = 'z')\n",
    "        return tf.maximum(z, 0., name = 'relu')\n",
    "\n",
    "n_features = 3\n",
    "X = tf.placeholder(tf.float32, shape = (None, n_features), name = 'X')\n",
    "relus = [relu(X) for i in range(5)]\n",
    "output = tf.add_n(relus, name = 'output')\n",
    "file_writer = tf.summary.FileWriter(\"logs/relu1\", tf.get_default_graph())\n",
    "file_writer.close()"
   ]
  },
  {
   "cell_type": "code",
   "execution_count": 5,
   "metadata": {},
   "outputs": [],
   "source": [
    "from sklearn.datasets import make_moons\n",
    "\n",
    "m = 1000\n",
    "X_moons, y_moons = make_moons(m, noise = 0.1, random_state=42)"
   ]
  },
  {
   "cell_type": "code",
   "execution_count": 6,
   "metadata": {},
   "outputs": [
    {
     "data": {
      "image/png": "[encoded data removed]",
      "text/plain": [
       "<matplotlib.figure.Figure at 0x1a103994a8>"
      ]
     },
     "metadata": {},
     "output_type": "display_data"
    }
   ],
   "source": [
    "import matplotlib.pyplot as plt\n",
    "plt.plot(X_moons[y_moons == 1, 0], X_moons[y_moons == 1, 1], 'go', label = 'Positive')\n",
    "plt.plot(X_moons[y_moons == 0, 0], X_moons[y_moons == 0, 1], 'r^', label = 'Negative')\n",
    "plt.legend()\n",
    "plt.show()"
   ]
  },
  {
   "cell_type": "code",
   "execution_count": 11,
   "metadata": {},
   "outputs": [],
   "source": [
    "import numpy as np\n",
    "import tensorflow as tf\n",
    "\n",
    "X_moons_with_bias = np.c_[np.ones((m, 1)), X_moons]\n",
    "y_moons_column = y_moons.reshape(-1, 1)\n",
    "test_ratio = 0.2\n",
    "test_size = int(m * test_ratio)\n",
    "X_train = X_moons_with_bias[: -test_size]\n",
    "X_test = X_moons_with_bias[-test_size:]\n",
    "y_train = y_moons_column[:-test_size]\n",
    "y_test = y_moons_column[-test_size:]"
   ]
  },
  {
   "cell_type": "code",
   "execution_count": 10,
   "metadata": {
    "collapsed": true
   },
   "outputs": [],
   "source": [
    "def random_batch(X_train, y_train, batch_size):\n",
    "    rnd_indices = np.random.randint(0, len(X_train), batch_size)\n",
    "    X_batch = X_train[rnd_indices]\n",
    "    y_batch = y_train[rnd_indices]\n",
    "    return X_batch, y_batch"
   ]
  },
  {
   "cell_type": "code",
   "execution_count": 14,
   "metadata": {},
   "outputs": [],
   "source": [
    "n_inputs = 2\n",
    "X = tf.placeholder(tf.float32, shape = (None, n_inputs + 1), name = 'X')\n",
    "y = tf.placeholder(tf.float32, shape = (None, 1), name = 'y')\n",
    "theta = tf.Variable(tf.random_uniform([n_inputs + 1, 1], -1.0, 1.0, seed = 42), name = 'theta')\n",
    "logits = tf.matmul(X, theta, name = 'logits')\n",
    "y_proba = tf.sigmoid(logits)\n",
    "loss = tf.losses.log_loss(y, y_proba)\n",
    "\n",
    "learning_rate = 0.01\n",
    "optimizer = tf.train.GradientDescentOptimizer(learning_rate = learning_rate)\n",
    "training_op = optimizer.minimize(loss)\n",
    "\n",
    "init = tf.global_variables_initializer()"
   ]
  },
  {
   "cell_type": "code",
   "execution_count": 29,
   "metadata": {},
   "outputs": [],
   "source": [
    "import os\n",
    "\n",
    "n_epochs = 1000\n",
    "batch_size = 50\n",
    "n_batches = int(np.ceil(m / batch_size))\n",
    "\n",
    "def logistic_regression(X, y, initializer = None, seed = 42, learning_rate = 0.01):\n",
    "    n_inputs_including_bias = int(X.get_shape()[1])\n",
    "    with tf.name_scope('logistic_regression'):\n",
    "        with tf.name_scope('model'):\n",
    "            if initializer is None:\n",
    "                initializer = tf.random_uniform([n_inputs_including_bias, 1], -1.0, 1.0, seed = seed)\n",
    "            theta = tf.Variable(initializer, name = 'theta')\n",
    "            logits = tf.matmul(X, theta, name = 'logits')\n",
    "            y_proba = tf.sigmoid(logits)\n",
    "        with tf.name_scope('train'):\n",
    "            loss = tf.losses.log_loss(y, y_proba, scope = 'loss')\n",
    "            optimizer = tf.train.GradientDescentOptimizer(learning_rate = learning_rate)\n",
    "            training_op = optimizer.minimize(loss)\n",
    "            loss_summary = tf.summary.scalar('log_loss', loss)\n",
    "        with tf.name_scope('init'):\n",
    "            init = tf.global_variables_initializer()\n",
    "        with tf.name_scope('save'):\n",
    "            saver = tf.train.Saver()\n",
    "        return y_proba, loss, training_op, loss_summary, init, saver"
   ]
  },
  {
   "cell_type": "code",
   "execution_count": 30,
   "metadata": {},
   "outputs": [],
   "source": [
    "from datetime import datetime\n",
    "\n",
    "def log_dir(prefix = \"\"):\n",
    "    now = datetime.utcnow().strftime(\"%Y%m%d%H%M%S\")\n",
    "    root_logdir = 'tf_logs'\n",
    "    if prefix:\n",
    "        prefix += \"-\"\n",
    "    name = prefix + \"run-\" + now\n",
    "    return \"{}/{}/\".format(root_logdir, name)\n",
    "\n",
    "n_inputs = 2 + 4\n",
    "logdir = log_dir('logreg')\n",
    "\n",
    "y_proba, loss, training_op, loss_summary, init, saver = logistic_regression(X, y)\n",
    "\n",
    "file_writer = tf.summary.FileWriter(logdir, tf.get_default_graph())"
   ]
  },
  {
   "cell_type": "code",
   "execution_count": 34,
   "metadata": {},
   "outputs": [
    {
     "name": "stdout",
     "output_type": "stream",
     "text": [
      "Training was interrupted. Continuining at epoch 10001\n",
      "INFO:tensorflow:Restoring parameters from /tmp/my_logreg_model.ckpt\n"
     ]
    }
   ],
   "source": [
    "n_epochs = 3501\n",
    "batch_size = 50\n",
    "n_batches = int(np.ceil(m / batch_size))\n",
    "\n",
    "checkpoint_path = '/tmp/my_logreg_model.ckpt'\n",
    "checkpoint_epoch_path = checkpoint_path + '.epoch'\n",
    "final_model_path = './my_logreg_model'\n",
    "\n",
    "with tf.Session() as sess:\n",
    "    if os.path.isfile(checkpoint_epoch_path):\n",
    "        with open(checkpoint_epoch_path, 'rb') as f:\n",
    "            start_epoch = int(f.read())\n",
    "        print(\"Training was interrupted. Continuining at epoch\", start_epoch)\n",
    "        saver.restore(sess, checkpoint_path)\n",
    "    else:\n",
    "        start_epoch = 0\n",
    "        sess.run(init)\n",
    "    \n",
    "    for epoch in range(start_epoch, n_epochs):\n",
    "        for batch_index in range(n_batches):\n",
    "            X_batch, y_batch = random_batch(X_train, y_train, batch_size)\n",
    "            sess.run(training_op, feed_dict = {X: X_batch, y: y_batch})\n",
    "        loss_val, summary_str = sess.run([loss, loss_summary], feed_dict = {X:X_test, y:y_test})\n",
    "        file_writer.add_summary(summary_str, epoch)\n",
    "        if epoch % 500 == 0:\n",
    "            print(\"Epoch:\", epoch, \"\\tLoss:\", loss_val)\n",
    "            saver.save(sess, checkpoint_path)\n",
    "            with open(checkpoint_epoch_path, 'wb') as f:\n",
    "                f.write(b\"%d\" % (epoch + 1))\n",
    "            \n",
    "        saver.save(sess, final_model_path)\n",
    "        y_proba_val = y_proba.eval(feed_dict = {X:X_test, y:y_test})\n",
    "       "
   ]
  },
  {
   "cell_type": "code",
   "execution_count": null,
   "metadata": {
    "collapsed": true
   },
   "outputs": [],
   "source": []
  }
 ],
 "metadata": {
  "kernelspec": {
   "display_name": "Python 3",
   "language": "python",
   "name": "python3"
  },
  "language_info": {
   "codemirror_mode": {
    "name": "ipython",
    "version": 3
   },
   "file_extension": ".py",
   "mimetype": "text/x-python",
   "name": "python",
   "nbconvert_exporter": "python",
   "pygments_lexer": "ipython3",
   "version": "3.6.4"
  }
 },
 "nbformat": 4,
 "nbformat_minor": 2
}
